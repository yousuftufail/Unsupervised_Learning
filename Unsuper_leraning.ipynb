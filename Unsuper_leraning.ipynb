{
 "cells": [
  {
   "cell_type": "code",
   "execution_count": 3,
   "metadata": {},
   "outputs": [
    {
     "name": "stdout",
     "output_type": "stream",
     "text": [
      "\f",
      "\n"
     ]
    }
   ],
   "source": [
    "cls"
   ]
  },
  {
   "cell_type": "code",
   "execution_count": 6,
   "metadata": {},
   "outputs": [
    {
     "data": {
      "text/plain": [
       "<_io.TextIOWrapper name='points.csv' mode='r' encoding='cp1252'>"
      ]
     },
     "execution_count": 6,
     "metadata": {},
     "output_type": "execute_result"
    }
   ],
   "source": [
    "open_file=open('points.csv')\n",
    "open_file"
   ]
  },
  {
   "cell_type": "code",
   "execution_count": 7,
   "metadata": {},
   "outputs": [
    {
     "data": {
      "text/plain": [
       "<_io.TextIOWrapper name='new_points.csv' mode='r' encoding='cp1252'>"
      ]
     },
     "execution_count": 7,
     "metadata": {},
     "output_type": "execute_result"
    }
   ],
   "source": [
    "open_file1=open('new_points.csv')\n",
    "open_file1"
   ]
  },
  {
   "cell_type": "code",
   "execution_count": 8,
   "metadata": {},
   "outputs": [
    {
     "name": "stdout",
     "output_type": "stream",
     "text": [
      "(300, 2)\n"
     ]
    },
    {
     "data": {
      "text/plain": [
       "'--------------------------------------------'"
      ]
     },
     "execution_count": 8,
     "metadata": {},
     "output_type": "execute_result"
    }
   ],
   "source": [
    "\"For Data\"\n",
    "\"-------------------------------------------\"\n",
    "import pandas as pd\n",
    "points=pd.read_csv('points.csv').values\n",
    "new_points=pd.read_csv('new_points.csv').values\n",
    "print(points.shape)\n",
    "#print(new_points.shape)\n",
    "\"--------------------------------------------\""
   ]
  },
  {
   "cell_type": "code",
   "execution_count": 9,
   "metadata": {},
   "outputs": [
    {
     "name": "stdout",
     "output_type": "stream",
     "text": [
      "(300, 2)\n"
     ]
    }
   ],
   "source": [
    "\"For Data\"\n",
    "\"-------------------------------------------\"\n",
    "import pandas as pd\n",
    "points=pd.read_csv('points.csv').values\n",
    "new_points=pd.read_csv('new_points.csv').values\n",
    "print(points.shape)\n",
    "#print(new_points.shape)\n"
   ]
  },
  {
   "cell_type": "code",
   "execution_count": 10,
   "metadata": {},
   "outputs": [],
   "source": [
    "#Clustering 2D points\n",
    "#From the scatter plot of the previous exercise, you saw that the points seem to separate into 3 clusters.\n",
    "# You'll now create a KMeans model to find 3 clusters, and fit it to the data points from the previous exercise.\n",
    "# After the model has been fit, you'll obtain the cluster labels for some new points using the .predict() method.\n",
    "#\n",
    "#You are given the array points from the previous exercise, and also an array new_points.\n",
    "#\n",
    "#Instructions\n",
    "#100 XP\n",
    "#Import KMeans from sklearn.cluster.\n",
    "#Using KMeans(), create a KMeans instance called model to find 3 clusters. To specify the number of clusters, \n",
    "#use the n_clusters keyword argument.\n",
    "#Use the .fit() method of model to fit the model to the array of points points.\n",
    "#Use the .predict() method of model to predict the cluster labels of new_points, assigning the result to labels.\n",
    "#Hit 'Submit Answer' to see the cluster labels of new_points."
   ]
  },
  {
   "cell_type": "code",
   "execution_count": 11,
   "metadata": {},
   "outputs": [
    {
     "name": "stdout",
     "output_type": "stream",
     "text": [
      "[2 1 0 2 1 2 1 1 1 0 2 1 1 0 0 1 0 0 1 1 0 1 2 1 2 0 1 0 0 2 2 1 1 1 0 2 1\n",
      " 1 2 1 0 2 2 0 2 1 0 0 1 1 1 1 0 0 2 2 0 0 0 2 2 1 1 1 2 1 0 1 2 0 2 2 2 1\n",
      " 2 0 0 2 1 0 2 0 2 1 0 1 0 2 1 1 1 2 1 1 2 0 0 0 0 2 1 2 0 0 2 2 1 2 0 0 2\n",
      " 0 0 0 1 1 1 1 0 0 1 2 1 0 1 2 0 1 0 0 1 0 1 0 2 1 2 2 1 0 2 1 2 2 0 1 1 2\n",
      " 0 2 0 1 2 0 0 2 0 1 1 0 1 0 0 1 1 2 1 1 0 2 0 2 2 1 2 1 1 2 2 0 2 2 2 0 1\n",
      " 1 2 0 2 0 0 1 1 1 2 1 1 1 0 0 2 1 2 2 2 0 1 1 1 1 1 1 0 0 1 0 0 0 0 1 0 0\n",
      " 1 1 2 0 2 2 0 2 0 2 0 1 1 0 1 1 1 0 2 2 0 1 1 0 1 0 0 1 0 0 2 0 2 2 2 1 0\n",
      " 0 0 2 1 2 0 2 0 0 1 2 2 2 0 1 1 1 2 1 0 0 1 2 2 0 2 2 0 2 1 2 0 0 0 0 1 0\n",
      " 0 1 1 2]\n"
     ]
    }
   ],
   "source": [
    "# Import KMeans\n",
    "from sklearn.cluster import KMeans\n",
    "\n",
    "# Create a KMeans instance with 3 clusters: model\n",
    "model = KMeans(n_clusters=3)\n",
    "\n",
    "# Fit model to points\n",
    "model.fit(points)\n",
    "\n",
    "# Determine the cluster labels of new_points: labels\n",
    "labels = model.predict(new_points)\n",
    "\n",
    "# Print cluster labels of new_points\n",
    "print(labels)"
   ]
  },
  {
   "cell_type": "code",
   "execution_count": 12,
   "metadata": {},
   "outputs": [
    {
     "data": {
      "text/plain": [
       "'Ex. 2:'"
      ]
     },
     "execution_count": 12,
     "metadata": {},
     "output_type": "execute_result"
    }
   ],
   "source": [
    "\"Ex. 2:\"\n",
    "#Inspect your clustering\n",
    "#Let's now inspect the clustering you performed in the previous exercise!\n",
    "#\n",
    "#A solution to the previous exercise has already run, so new_points is an array of points and labels is \n",
    "#the array of their cluster labels.\n",
    "#\n",
    "#Instructions\n",
    "#100 XP\n",
    "#Import matplotlib.pyplot as plt.\n",
    "#Assign column 0 of new_points to xs, and column 1 of new_points to ys.\n",
    "#Make a scatter plot of xs and ys, specifying the c=labels keyword arguments to color the points by their \n",
    "#cluster label. Also specify alpha=0.5.\n",
    "#Compute the coordinates of the centroids using the .cluster_centers_ attribute of model.\n",
    "#Assign column 0 of centroids to centroids_x, and column 1 of centroids to centroids_y.\n",
    "#Make a scatter plot of centroids_x and centroids_y, using 'D' (a diamond) as a marker by specifying the \n",
    "#marker parameter. Set the size of the markers to be 50 using s=50.\n"
   ]
  },
  {
   "cell_type": "code",
   "execution_count": 13,
   "metadata": {},
   "outputs": [
    {
     "data": {
      "image/png": "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\n",
      "text/plain": [
       "<Figure size 432x288 with 1 Axes>"
      ]
     },
     "metadata": {},
     "output_type": "display_data"
    }
   ],
   "source": [
    "import seaborn as sns\n",
    "sns.set()\n",
    "# Import pyplot\n",
    "import matplotlib.pyplot as plt\n",
    "\n",
    "# Assign the columns of new_points: xs and ys\n",
    "xs =new_points[:,0]\n",
    "ys =new_points[:,1]\n",
    "\n",
    "# Make a scatter plot of xs and ys, using labels to define the colors\n",
    "plt.scatter(xs,ys,c=labels,alpha=0.5)\n",
    "\n",
    "# Assign the cluster centers: centroids\n",
    "centroids = model.cluster_centers_\n",
    "\n",
    "# Assign the columns of centroids: centroids_x, centroids_y\n",
    "centroids_x = centroids[:,0]\n",
    "centroids_y = centroids[:,1]\n",
    "\n",
    "# Make a scatter plot of centroids_x and centroids_y\n",
    "plt.scatter(centroids_x, centroids_y,marker='D',s=50)\n",
    "plt.show()\n"
   ]
  },
  {
   "cell_type": "code",
   "execution_count": 14,
   "metadata": {},
   "outputs": [
    {
     "name": "stdout",
     "output_type": "stream",
     "text": [
      "Conclusion:The clustering looks great! But how can you be sure that 3 clusters \n",
      "is the correct choice?\n"
     ]
    }
   ],
   "source": [
    
   ]
  },
  {
   "cell_type": "code",
   "execution_count": null,
   "metadata": {},
   "outputs": [],
   "source": []
  },
  {
   "cell_type": "code",
   "execution_count": null,
   "metadata": {},
   "outputs": [],
   "source": []
  }
 ],
 "metadata": {
  "kernelspec": {
   "display_name": "Python 3",
   "language": "python",
   "name": "python3"
  },
  "language_info": {
   "codemirror_mode": {
    "name": "ipython",
    "version": 3
   },
   "file_extension": ".py",
   "mimetype": "text/x-python",
   "name": "python",
   "nbconvert_exporter": "python",
   "pygments_lexer": "ipython3",
   "version": "3.7.4"
  }
 },
 "nbformat": 4,
 "nbformat_minor": 2
}
Conclusion:The clustering looks great! But how can you be sure that 3 clusters is the correct choice?
