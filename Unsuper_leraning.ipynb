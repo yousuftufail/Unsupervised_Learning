{
 "cells": [
  {
   "cell_type": "code",
   "execution_count": 3,
   "metadata": {},
   "outputs": [
    {
     "name": "stdout",
     "output_type": "stream",
     "text": [
      "\f",
      "\n"
     ]
    }
   ],
   "source": [
    "cls"
   ]
  },
  {
   "cell_type": "code",
   "execution_count": 4,
   "metadata": {},
   "outputs": [
    {
     "data": {
      "text/plain": [
       "<_io.TextIOWrapper name='points.csv' mode='r' encoding='cp1252'>"
      ]
     },
     "execution_count": 4,
     "metadata": {},
     "output_type": "execute_result"
    }
   ],
   "source": [
    "open_file=open('points.csv')\n",
    "open_file"
   ]
  },
  {
   "cell_type": "code",
   "execution_count": 5,
   "metadata": {},
   "outputs": [
    {
     "data": {
      "text/plain": [
       "<_io.TextIOWrapper name='new_points.csv' mode='r' encoding='cp1252'>"
      ]
     },
     "execution_count": 5,
     "metadata": {},
     "output_type": "execute_result"
    }
   ],
   "source": [
    "open_file1=open('new_points.csv')\n",
    "open_file1"
   ]
  },
  {
   "cell_type": "code",
   "execution_count": 6,
   "metadata": {},
   "outputs": [
    {
     "ename": "SyntaxError",
     "evalue": "EOL while scanning string literal (<ipython-input-6-88004500afc1>, line 8)",
     "output_type": "error",
     "traceback": [
      "\u001b[1;36m  File \u001b[1;32m\"<ipython-input-6-88004500afc1>\"\u001b[1;36m, line \u001b[1;32m8\u001b[0m\n\u001b[1;33m    \"--------------------------------------------\u001b[0m\n\u001b[1;37m                                                 ^\u001b[0m\n\u001b[1;31mSyntaxError\u001b[0m\u001b[1;31m:\u001b[0m EOL while scanning string literal\n"
     ]
    }
   ],
   "source": [
    "\"For Data\"\n",
    "\"-------------------------------------------\"\n",
    "import pandas as pd\n",
    "points=pd.read_csv('points.csv').values\n",
    "new_points=pd.read_csv('new_points.csv').values\n",
    "print(points.shape)\n",
    "#print(new_points.shape)\n",
    "\"--------------------------------------------"
   ]
  },
  {
   "cell_type": "code",
   "execution_count": 7,
   "metadata": {},
   "outputs": [
    {
     "name": "stdout",
     "output_type": "stream",
     "text": [
      "(300, 2)\n"
     ]
    }
   ],
   "source": [
    "\"For Data\"\n",
    "\"-------------------------------------------\"\n",
    "import pandas as pd\n",
    "points=pd.read_csv('points.csv').values\n",
    "new_points=pd.read_csv('new_points.csv').values\n",
    "print(points.shape)\n",
    "#print(new_points.shape)\n"
   ]
  },
  {
   "cell_type": "code",
   "execution_count": 8,
   "metadata": {},
   "outputs": [],
   "source": [
    "#Clustering 2D points\n",
    "#From the scatter plot of the previous exercise, you saw that the points seem to separate into 3 clusters.\n",
    "# You'll now create a KMeans model to find 3 clusters, and fit it to the data points from the previous exercise.\n",
    "# After the model has been fit, you'll obtain the cluster labels for some new points using the .predict() method.\n",
    "#\n",
    "#You are given the array points from the previous exercise, and also an array new_points.\n",
    "#\n",
    "#Instructions\n",
    "#100 XP\n",
    "#Import KMeans from sklearn.cluster.\n",
    "#Using KMeans(), create a KMeans instance called model to find 3 clusters. To specify the number of clusters, \n",
    "#use the n_clusters keyword argument.\n",
    "#Use the .fit() method of model to fit the model to the array of points points.\n",
    "#Use the .predict() method of model to predict the cluster labels of new_points, assigning the result to labels.\n",
    "#Hit 'Submit Answer' to see the cluster labels of new_points."
   ]
  },
  {
   "cell_type": "code",
   "execution_count": 9,
   "metadata": {},
   "outputs": [
    {
     "name": "stdout",
     "output_type": "stream",
     "text": [
      "[1 0 2 1 0 1 0 0 0 2 1 0 0 2 2 0 2 2 0 0 2 0 1 0 1 2 0 2 2 1 1 0 0 0 2 1 0\n",
      " 0 1 0 2 1 1 2 1 0 2 2 0 0 0 0 2 2 1 1 2 2 2 1 1 0 0 0 1 0 2 0 1 2 1 1 1 0\n",
      " 1 2 2 1 0 2 1 2 1 0 2 0 2 1 0 0 0 1 0 0 1 2 2 2 2 1 0 1 2 2 1 1 0 1 2 2 1\n",
      " 2 2 2 0 0 0 0 2 2 0 1 0 2 0 1 2 0 2 2 0 2 0 2 1 0 1 1 0 2 1 0 1 1 2 0 0 1\n",
      " 2 1 2 0 1 2 2 1 2 0 0 2 0 2 2 0 0 1 0 0 2 1 2 1 1 0 1 0 0 1 1 2 1 1 1 2 0\n",
      " 0 1 2 1 2 2 0 0 0 1 0 0 0 2 2 1 0 1 1 1 2 0 0 0 0 0 0 2 2 0 2 2 2 2 0 2 2\n",
      " 0 0 1 2 1 1 2 1 2 1 2 0 0 2 0 0 0 2 1 1 2 0 0 2 0 2 2 0 2 2 1 2 1 1 1 0 2\n",
      " 2 2 1 0 1 2 1 2 2 0 1 1 1 2 0 0 0 1 0 2 2 0 1 1 2 1 1 2 1 0 1 2 2 2 2 0 2\n",
      " 2 0 0 1]\n"
     ]
    }
   ],
   "source": [
    "# Import KMeans\n",
    "from sklearn.cluster import KMeans\n",
    "\n",
    "# Create a KMeans instance with 3 clusters: model\n",
    "model = KMeans(n_clusters=3)\n",
    "\n",
    "# Fit model to points\n",
    "model.fit(points)\n",
    "\n",
    "# Determine the cluster labels of new_points: labels\n",
    "labels = model.predict(new_points)\n",
    "\n",
    "# Print cluster labels of new_points\n",
    "print(labels)"
   ]
  },
  {
   "cell_type": "code",
   "execution_count": 10,
   "metadata": {},
   "outputs": [
    {
     "data": {
      "text/plain": [
       "'Ex. 2:'"
      ]
     },
     "execution_count": 10,
     "metadata": {},
     "output_type": "execute_result"
    }
   ],
   "source": [
    "\"Ex. 2:\"\n",
    "#Inspect your clustering\n",
    "#Let's now inspect the clustering you performed in the previous exercise!\n",
    "#\n",
    "#A solution to the previous exercise has already run, so new_points is an array of points and labels is \n",
    "#the array of their cluster labels.\n",
    "#\n",
    "#Instructions\n",
    "#100 XP\n",
    "#Import matplotlib.pyplot as plt.\n",
    "#Assign column 0 of new_points to xs, and column 1 of new_points to ys.\n",
    "#Make a scatter plot of xs and ys, specifying the c=labels keyword arguments to color the points by their \n",
    "#cluster label. Also specify alpha=0.5.\n",
    "#Compute the coordinates of the centroids using the .cluster_centers_ attribute of model.\n",
    "#Assign column 0 of centroids to centroids_x, and column 1 of centroids to centroids_y.\n",
    "#Make a scatter plot of centroids_x and centroids_y, using 'D' (a diamond) as a marker by specifying the \n",
    "#marker parameter. Set the size of the markers to be 50 using s=50.\n"
   ]
  },
  {
   "cell_type": "code",
   "execution_count": 11,
   "metadata": {},
   "outputs": [
    {
     "data": {
      "text/plain": [
       "<Figure size 640x480 with 1 Axes>"
      ]
     },
     "metadata": {},
     "output_type": "display_data"
    }
   ],
   "source": [
    "import seaborn as sns\n",
    "sns.set()\n",
    "# Import pyplot\n",
    "import matplotlib.pyplot as plt\n",
    "\n",
    "# Assign the columns of new_points: xs and ys\n",
    "xs =new_points[:,0]\n",
    "ys =new_points[:,1]\n",
    "\n",
    "# Make a scatter plot of xs and ys, using labels to define the colors\n",
    "plt.scatter(xs,ys,c=labels,alpha=0.5)\n",
    "\n",
    "# Assign the cluster centers: centroids\n",
    "centroids = model.cluster_centers_\n",
    "\n",
    "# Assign the columns of centroids: centroids_x, centroids_y\n",
    "centroids_x = centroids[:,0]\n",
    "centroids_y = centroids[:,1]\n",
    "\n",
    "# Make a scatter plot of centroids_x and centroids_y\n",
    "plt.scatter(centroids_x, centroids_y,marker='D',s=50)\n",
    "plt.show()\n"
   ]
  },
  {
   "cell_type": "code",
   "execution_count": 12,
   "metadata": {},
   "outputs": [
    {
     "name": "stdout",
     "output_type": "stream",
     "text": [
      "Conclusion:The clustering looks great! But how can you be sure that 3 clusters \n",
      "is the correct choice?\n"
     ]
    }
   ],
   "source": [
    "print(\"\"\"Conclusion:The clustering looks great! But how can you be sure that 3 clusters \n",
    "is the correct choice?\"\"\")"
   ]
  },
  {
   "cell_type": "code",
   "execution_count": null,
   "metadata": {},
   "outputs": [],
   "source": []
  }
 ],
 "metadata": {
  "kernelspec": {
   "display_name": "Python 3",
   "language": "python",
   "name": "python3"
  },
  "language_info": {
   "codemirror_mode": {
    "name": "ipython",
    "version": 3
   },
   "file_extension": ".py",
   "mimetype": "text/x-python",
   "name": "python",
   "nbconvert_exporter": "python",
   "pygments_lexer": "ipython3",
   "version": "3.7.4"
  }
 },
 "nbformat": 4,
 "nbformat_minor": 2
}
